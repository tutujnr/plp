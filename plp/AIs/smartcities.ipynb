# SDG 11 - Sustainable Cities: Clustering Transport Accessibility
# Project: AI for Urban Mobility using K-Means

import pandas as pd
from sklearn.cluster import KMeans
from sklearn.preprocessing import StandardScaler
import matplotlib.pyplot as plt
import seaborn as sns

# Step 1: Download and Load Dataset
!wget -O OPTIMAP.parquet https://mobility.dbvis.de/data-results/OPTIMAP_v2025-02-01.parquet

df = pd.read_parquet("OPTIMAP.parquet")
print("Original Data Sample:")
print(df.head())

# Step 2: Sample to reduce size for clustering
sample = df.sample(n=100000, random_state=42)

# Step 3: Aggregate by grid regions
sample['lat_grid'] = sample['lat'].round(3)
sample['lng_grid'] = sample['lng'].round(3)

grid = sample.groupby(['lat_grid', 'lng_grid']).agg({
    'MinDistanceWalking': 'mean',
    'scores_OVERALL': 'mean'
}).reset_index()

print("\nAggregated Grid Sample:")
print(grid.head())

# Step 4: Feature Normalization
X = grid[['MinDistanceWalking', 'scores_OVERALL']]
scaler = StandardScaler()
X_scaled = scaler.fit_transform(X)

# Step 5: Elbow Method to find optimal k
errors = []
for k in range(2, 8):
    km = KMeans(n_clusters=k, random_state=0).fit(X_scaled)
    errors.append(km.inertia_)

plt.figure(figsize=(8, 4))
plt.plot(range(2, 8), errors, marker='o')
plt.title('Elbow Method for Optimal K')
plt.xlabel('Number of Clusters (k)')
plt.ylabel('Inertia')
plt.grid(True)
plt.show()

# Step 6: Apply K-Means with chosen k
best_k = 4
kmeans = KMeans(n_clusters=best_k, random_state=42).fit(X_scaled)
grid['cluster'] = kmeans.labels_

# Step 7: Visualize Clusters
plt.figure(figsize=(10, 6))
sns.scatterplot(
    x='scores_OVERALL', 
    y='MinDistanceWalking', 
    hue='cluster', 
    palette='tab10', 
    data=grid
)
plt.xlabel('Average Accessibility Score')
plt.ylabel('Average Walking Distance (m)')
plt.title('Clustered Regions by Transport Accessibility')
plt.legend(title='Cluster')
plt.show()

# Step 8: Save Clustered Data for Reporting
grid.to_csv("clustered_transport_accessibility.csv", index=False)
print("\nClustered data saved to clustered_transport_accessibility.csv")
